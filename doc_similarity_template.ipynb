{
 "cells": [
  {
   "cell_type": "markdown",
   "id": "80e1b4fa",
   "metadata": {},
   "source": [
    "Notebook template to calculate the simalrities of descriptions/documents from within a csv file format"
   ]
  },
  {
   "cell_type": "code",
   "execution_count": null,
   "id": "a433134c",
   "metadata": {},
   "outputs": [],
   "source": [
    "# install sentence-transformers package\n",
    "!pip install sentence-transformers\n",
    "# !pip install numba==0.53.1 # if error, try installing this specific version"
   ]
  },
  {
   "cell_type": "code",
   "execution_count": null,
   "id": "f6b62284",
   "metadata": {},
   "outputs": [],
   "source": [
    "# Imports\n",
    "# all these packages should be common to an anaconda python distro\n",
    "from sentence_transformers import SentenceTransformer\n",
    "from sklearn.metrics.pairwise import cosine_similarity\n",
    "import pandas as pd\n",
    "import re\n",
    "import numpy as np"
   ]
  },
  {
   "cell_type": "markdown",
   "id": "66b188a4",
   "metadata": {},
   "source": [
    "Input/Output Parameters to change with your file paths"
   ]
  },
  {
   "cell_type": "code",
   "execution_count": null,
   "id": "77154b88",
   "metadata": {},
   "outputs": [],
   "source": [
    "# Input/Output Parameters\n",
    "# Change these with your file and column names and where you want to save the scores\n",
    "input_file = './SOME_FILE.csv' # change to whatever file/filepath you are using\n",
    "output_file = './NEW_SCORE_FILE.csv' # change to your outpath\n",
    "desc_column = 'Description' # description field column\n",
    "name_column = 'Technologies' # group name field column. Used for indexes and titles"
   ]
  },
  {
   "cell_type": "code",
   "execution_count": null,
   "id": "fa3d48d2",
   "metadata": {},
   "outputs": [],
   "source": [
    "# Initialize Pre-trained model \n",
    "# downloads automatically from hugging face\n",
    "# You can try other pre-trained models too from hugging face: https://huggingface.co/models\n",
    "model_name = 'sentence-transformers/paraphrase-distilroberta-base-v2'\n",
    "model = SentenceTransformer(model_name)"
   ]
  },
  {
   "cell_type": "code",
   "execution_count": null,
   "id": "cb03841c",
   "metadata": {},
   "outputs": [],
   "source": [
    "# read input file and covert to df\n",
    "# covert target columns to list for easier processing\n",
    "df = pd.read_csv(input_file)\n",
    "desc_list = df[desc_column].tolist()\n",
    "name_list = df[name_column].tolist()"
   ]
  },
  {
   "cell_type": "code",
   "execution_count": null,
   "id": "e126a0ce",
   "metadata": {},
   "outputs": [],
   "source": [
    "# length of df\n",
    "len(desc_list)"
   ]
  },
  {
   "cell_type": "code",
   "execution_count": null,
   "id": "e5de4762",
   "metadata": {},
   "outputs": [],
   "source": [
    "# encode/create embeddings for all descriptions\n",
    "all_desc_vecs = [model.encode(desc) for desc in desc_list]"
   ]
  },
  {
   "cell_type": "code",
   "execution_count": null,
   "id": "19c1484a",
   "metadata": {},
   "outputs": [],
   "source": [
    "# Calculate the cosine similarity between each document\n",
    "all_scores = []\n",
    "for idx, vec in enumerate(all_desc_vecs):\n",
    "    print('Calculating Similarities for Index: ', idx)\n",
    "    scores = cosine_similarity([vec], all_desc_vecs).flatten()\n",
    "    all_scores.append(scores)"
   ]
  },
  {
   "cell_type": "code",
   "execution_count": null,
   "id": "a8ed8b23",
   "metadata": {},
   "outputs": [],
   "source": [
    "# Convert to df\n",
    "final_df = pd.DataFrame(all_scores, index=name_list, columns=name_list,)"
   ]
  },
  {
   "cell_type": "code",
   "execution_count": null,
   "id": "da5803b6",
   "metadata": {},
   "outputs": [],
   "source": [
    "# Show Scores \n",
    "final_df"
   ]
  },
  {
   "cell_type": "code",
   "execution_count": null,
   "id": "fcf65821",
   "metadata": {},
   "outputs": [],
   "source": [
    "# Save df file to output\n",
    "final_df.to_csv(output_file, index=True)"
   ]
  },
  {
   "cell_type": "code",
   "execution_count": null,
   "id": "14892846",
   "metadata": {},
   "outputs": [],
   "source": [
    "# Correlation plot visualization\n",
    "# Type 1 Basic correlation color plot\n",
    "import seaborn as sns\n",
    "corr = final_df.corr()\n",
    "sns.heatmap(corr, cmap=\"Blues\", annot=True)"
   ]
  },
  {
   "cell_type": "code",
   "execution_count": null,
   "id": "3102d804",
   "metadata": {},
   "outputs": [],
   "source": [
    "# Type 2 being fancy and using hover over texts\n",
    "cmap=sns.diverging_palette(5, 250, as_cmap=True)\n",
    "corr = final_df.corr()\n",
    "def magnify():\n",
    "    return [dict(selector=\"th\",\n",
    "                 props=[(\"font-size\", \"7pt\")]),\n",
    "            dict(selector=\"td\",\n",
    "                 props=[('padding', \"0em 0em\")]),\n",
    "            dict(selector=\"th:hover\",\n",
    "                 props=[(\"font-size\", \"12pt\")]),\n",
    "            dict(selector=\"tr:hover td:hover\",\n",
    "                 props=[('max-width', '200px'),\n",
    "                        ('font-size', '12pt')])\n",
    "]\n",
    "\n",
    "corr.style.background_gradient(cmap, axis=1)\\\n",
    "    .set_properties(**{'max-width': '100px', 'font-size': '12pt'})\\\n",
    "    .set_caption(\"Hover to magify\")\\\n",
    "    .set_precision(2)\\\n",
    "    .set_table_styles(magnify())"
   ]
  },
  {
   "cell_type": "code",
   "execution_count": null,
   "id": "54e399c0",
   "metadata": {},
   "outputs": [],
   "source": []
  }
 ],
 "metadata": {
  "kernelspec": {
   "display_name": "Python 3 (ipykernel)",
   "language": "python",
   "name": "python3"
  },
  "language_info": {
   "codemirror_mode": {
    "name": "ipython",
    "version": 3
   },
   "file_extension": ".py",
   "mimetype": "text/x-python",
   "name": "python",
   "nbconvert_exporter": "python",
   "pygments_lexer": "ipython3",
   "version": "3.9.7"
  }
 },
 "nbformat": 4,
 "nbformat_minor": 5
}
